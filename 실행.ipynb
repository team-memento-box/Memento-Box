{
 "cells": [
  {
   "cell_type": "markdown",
   "id": "f0e0e3d9",
   "metadata": {},
   "source": [
    "## Wav파일 전처리"
   ]
  },
  {
   "cell_type": "code",
   "execution_count": null,
   "id": "04c4db4b",
   "metadata": {},
   "outputs": [],
   "source": [
    "import os\n",
    "import subprocess\n",
    "from pathlib import Path\n",
    "\n",
    "def preprocess_wav_directory(input_dir, output_dir, sample_rate=16000):\n",
    "    input_dir = Path(input_dir)\n",
    "    output_dir = Path(output_dir)\n",
    "    output_dir.mkdir(parents=True, exist_ok=True)\n",
    "\n",
    "    for wav_file in input_dir.glob(\"*.wav\"):\n",
    "        output_file = output_dir / wav_file.name\n",
    "        command = [\n",
    "            \"ffmpeg\",\n",
    "            \"-y\",  # overwrite without asking\n",
    "            \"-i\", str(wav_file),\n",
    "            \"-ar\", str(sample_rate),       # Resample to 16kHz\n",
    "            \"-ac\", \"1\",                    # Convert to mono\n",
    "            \"-acodec\", \"pcm_s16le\",        # 16-bit PCM\n",
    "            str(output_file)\n",
    "        ]\n",
    "        subprocess.run(command, stdout=subprocess.DEVNULL, stderr=subprocess.DEVNULL)\n",
    "\n",
    "    print(f\"✅ 전처리 완료: {len(list(output_dir.glob('*.wav')))}개 파일이 {output_dir}에 저장되었습니다.\")\n",
    "\n",
    "# 예시 사용\n",
    "input_path = 'input_wav'\n",
    "output_path = \"output_wav\"\n",
    "preprocess_wav_directory(input_path,output_path )\n"
   ]
  },
  {
   "cell_type": "markdown",
   "id": "950f9ee0",
   "metadata": {},
   "source": [
    "## STT"
   ]
  },
  {
   "cell_type": "code",
   "execution_count": null,
   "id": "001a19a4",
   "metadata": {},
   "outputs": [],
   "source": [
    "import os\n",
    "from dotenv import load_dotenv\n",
    "# .env 파일 로드\n",
    "load_dotenv()\n",
    "\n",
    "# 환경변수 가져오기\n",
    "speech_key = os.getenv(\"speech_key\")"
   ]
  },
  {
   "cell_type": "code",
   "execution_count": null,
   "id": "8d4e0d9e",
   "metadata": {},
   "outputs": [],
   "source": [
    "import azure.cognitiveservices.speech as speechsdk\n",
    "\n",
    "def transcribe_speech(audio_path: str, speech_key: str, region: str) -> str:\n",
    "    speech_config = speechsdk.SpeechConfig(subscription=speech_key, region=region)\n",
    "    speech_config.speech_recognition_language = \"ko-KR\"  # ✅ 한국어 설정\n",
    "\n",
    "    audio_config = speechsdk.audio.AudioConfig(filename=audio_path)\n",
    "\n",
    "    speech_recognizer = speechsdk.SpeechRecognizer(speech_config=speech_config, audio_config=audio_config)\n",
    "\n",
    "    print(\"🎙️ STT 실행 중...\")\n",
    "    result = speech_recognizer.recognize_once()\n",
    "\n",
    "    if result.reason == speechsdk.ResultReason.RecognizedSpeech:\n",
    "        print(\"📝 인식된 텍스트:\", result.text)\n",
    "        return result.text\n",
    "    else:\n",
    "        print(\"❌ 음성 인식 실패:\", result.reason)\n",
    "        return \"\"\n",
    "\n",
    "# 예시 실행\n",
    "region = \"eastus\"\n",
    "prompt_audio_path = \"output_wav/노인남여_노인대화07_F_1526682663_63_수도권_실내_08352.wav\"\n",
    "\n",
    "prompt_text = transcribe_speech(prompt_audio_path, speech_key, region)\n"
   ]
  },
  {
   "cell_type": "markdown",
   "id": "bed15eef",
   "metadata": {},
   "source": [
    "## TTS"
   ]
  },
  {
   "cell_type": "code",
   "execution_count": null,
   "id": "72f897e2",
   "metadata": {},
   "outputs": [],
   "source": [
    "from inference_module import init_engine, run_tts\n",
    "import numpy as np\n",
    "from scipy.io.wavfile import write as write_wav\n",
    "engine = init_engine()\n",
    "\n",
    "input_text = \"\"\"\n",
    "이 사진은 내가 스무 살 때, 처음 서울 구경 갔을 때 찍은 거야.\n",
    "저기 옆에 있는 친구는 순이, 참 말도 많고 웃음도 많던 아이였지.\n",
    "그날 남대문시장에서 산 하늘색 원피스를 아직도 기억해.\n",
    "사진 속 나는 참 해맑은데, 그땐 세상이 다 설레고 신기했지.\n",
    "요즘도 이 사진 보면 가끔 그 시절 냄새가 나는 것 같아.\n",
    "\"\"\"\n",
    "prompt_audio_path = \"output_wav/노인남여_노인대화07_F_1526682663_63_수도권_실내_08352.wav\"\n",
    "\n",
    "# 3. 추론 실행\n",
    "sample_rate, waveform = run_tts(engine, input_text, prompt_audio_path, prompt_text)\n",
    "\n",
    "# 4. float32 → int16로 변환하여 저장\n",
    "waveform_int16 = (waveform * 32767).astype(np.int16)\n",
    "write_wav(\"model_output/8000/1.wav\", sample_rate, waveform_int16)\n",
    "\n",
    "print(\"✅ 생성 완료: output.wav\")\n"
   ]
  }
 ],
 "metadata": {
  "kernelspec": {
   "display_name": "fish",
   "language": "python",
   "name": "python3"
  },
  "language_info": {
   "name": "python",
   "version": "3.10.17"
  }
 },
 "nbformat": 4,
 "nbformat_minor": 5
}
